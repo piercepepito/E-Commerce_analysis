{
 "cells": [
  {
   "cell_type": "markdown",
   "metadata": {},
   "source": [
    "# How's My Business\n",
    "\n",
    "An analysis of an E-Commerce business, understanding of where they are at now, and knowing the holes of the business. The dataset is based off of [UCI Machine Learning Repository](https://archive.ics.uci.edu/ml/datasets/online+retail), which is mad eup of transactional data. The business is an online retail store business, based off of the UK, that sells all-occasion gifts.  "
   ]
  },
  {
   "cell_type": "code",
   "execution_count": 1,
   "metadata": {
    "ExecuteTime": {
     "end_time": "2021-06-20T05:24:10.744227Z",
     "start_time": "2021-06-20T05:24:09.276151Z"
    }
   },
   "outputs": [],
   "source": [
    "#load the necessary libraries\n",
    "import pandas as pd\n",
    "import numpy as np\n",
    "\n",
    "import matplotlib.pyplot as plt\n",
    "import matplotlib.ticker as mtick\n",
    "\n",
    "%matplotlib inline\n",
    "plt.style.use(\"ggplot\")\n",
    "\n",
    "#read csv file\n",
    "df = pd.read_csv(\"data.csv\", encoding= 'unicode_escape')"
   ]
  },
  {
   "cell_type": "code",
   "execution_count": 2,
   "metadata": {
    "ExecuteTime": {
     "end_time": "2021-06-20T05:24:10.766168Z",
     "start_time": "2021-06-20T05:24:10.747218Z"
    }
   },
   "outputs": [
    {
     "data": {
      "text/html": [
       "<div>\n",
       "<style scoped>\n",
       "    .dataframe tbody tr th:only-of-type {\n",
       "        vertical-align: middle;\n",
       "    }\n",
       "\n",
       "    .dataframe tbody tr th {\n",
       "        vertical-align: top;\n",
       "    }\n",
       "\n",
       "    .dataframe thead th {\n",
       "        text-align: right;\n",
       "    }\n",
       "</style>\n",
       "<table border=\"1\" class=\"dataframe\">\n",
       "  <thead>\n",
       "    <tr style=\"text-align: right;\">\n",
       "      <th></th>\n",
       "      <th>InvoiceNo</th>\n",
       "      <th>StockCode</th>\n",
       "      <th>Description</th>\n",
       "      <th>Quantity</th>\n",
       "      <th>InvoiceDate</th>\n",
       "      <th>UnitPrice</th>\n",
       "      <th>CustomerID</th>\n",
       "      <th>Country</th>\n",
       "    </tr>\n",
       "  </thead>\n",
       "  <tbody>\n",
       "    <tr>\n",
       "      <th>0</th>\n",
       "      <td>536365</td>\n",
       "      <td>85123A</td>\n",
       "      <td>WHITE HANGING HEART T-LIGHT HOLDER</td>\n",
       "      <td>6</td>\n",
       "      <td>12/1/2010 8:26</td>\n",
       "      <td>2.55</td>\n",
       "      <td>17850.0</td>\n",
       "      <td>United Kingdom</td>\n",
       "    </tr>\n",
       "    <tr>\n",
       "      <th>1</th>\n",
       "      <td>536365</td>\n",
       "      <td>71053</td>\n",
       "      <td>WHITE METAL LANTERN</td>\n",
       "      <td>6</td>\n",
       "      <td>12/1/2010 8:26</td>\n",
       "      <td>3.39</td>\n",
       "      <td>17850.0</td>\n",
       "      <td>United Kingdom</td>\n",
       "    </tr>\n",
       "    <tr>\n",
       "      <th>2</th>\n",
       "      <td>536365</td>\n",
       "      <td>84406B</td>\n",
       "      <td>CREAM CUPID HEARTS COAT HANGER</td>\n",
       "      <td>8</td>\n",
       "      <td>12/1/2010 8:26</td>\n",
       "      <td>2.75</td>\n",
       "      <td>17850.0</td>\n",
       "      <td>United Kingdom</td>\n",
       "    </tr>\n",
       "    <tr>\n",
       "      <th>3</th>\n",
       "      <td>536365</td>\n",
       "      <td>84029G</td>\n",
       "      <td>KNITTED UNION FLAG HOT WATER BOTTLE</td>\n",
       "      <td>6</td>\n",
       "      <td>12/1/2010 8:26</td>\n",
       "      <td>3.39</td>\n",
       "      <td>17850.0</td>\n",
       "      <td>United Kingdom</td>\n",
       "    </tr>\n",
       "    <tr>\n",
       "      <th>4</th>\n",
       "      <td>536365</td>\n",
       "      <td>84029E</td>\n",
       "      <td>RED WOOLLY HOTTIE WHITE HEART.</td>\n",
       "      <td>6</td>\n",
       "      <td>12/1/2010 8:26</td>\n",
       "      <td>3.39</td>\n",
       "      <td>17850.0</td>\n",
       "      <td>United Kingdom</td>\n",
       "    </tr>\n",
       "  </tbody>\n",
       "</table>\n",
       "</div>"
      ],
      "text/plain": [
       "  InvoiceNo StockCode                          Description  Quantity  \\\n",
       "0    536365    85123A   WHITE HANGING HEART T-LIGHT HOLDER         6   \n",
       "1    536365     71053                  WHITE METAL LANTERN         6   \n",
       "2    536365    84406B       CREAM CUPID HEARTS COAT HANGER         8   \n",
       "3    536365    84029G  KNITTED UNION FLAG HOT WATER BOTTLE         6   \n",
       "4    536365    84029E       RED WOOLLY HOTTIE WHITE HEART.         6   \n",
       "\n",
       "      InvoiceDate  UnitPrice  CustomerID         Country  \n",
       "0  12/1/2010 8:26       2.55     17850.0  United Kingdom  \n",
       "1  12/1/2010 8:26       3.39     17850.0  United Kingdom  \n",
       "2  12/1/2010 8:26       2.75     17850.0  United Kingdom  \n",
       "3  12/1/2010 8:26       3.39     17850.0  United Kingdom  \n",
       "4  12/1/2010 8:26       3.39     17850.0  United Kingdom  "
      ]
     },
     "execution_count": 2,
     "metadata": {},
     "output_type": "execute_result"
    }
   ],
   "source": [
    "df.head()"
   ]
  },
  {
   "cell_type": "markdown",
   "metadata": {},
   "source": [
    "Attribute Information:\n",
    "\n",
    "1. InvoiceNo: Invoice number. Nominal, a 6-digit integral number uniquely assigned to each transaction. If this code starts with letter 'c', it indicates a cancellation.\n",
    "2. StockCode: Product (item) code. Nominal, a 5-digit integral number uniquely assigned to each distinct product.\n",
    "3. Description: Product (item) name. Nominal.\n",
    "4. Quantity: The quantities of each product (item) per transaction. Numeric.\n",
    "5. InvoiceDate: Invice Date and time. Numeric, the day and time when each transaction was generated.\n",
    "6. UnitPrice: Unit price. Numeric, Product price per unit in sterling.\n",
    "7. CustomerID: Customer number. Nominal, a 5-digit integral number uniquely assigned to each customer.\n",
    "8. Country: Country name. Nominal, the name of the country where each customer resides."
   ]
  },
  {
   "cell_type": "markdown",
   "metadata": {},
   "source": [
    "# Data Cleaning\n",
    "\n",
    "Before doing any analysis on the data, there has to be some data quality checking first and cleaning of the dataset. This will be broken by inspecting for any missing data, handling it, and adding in new parameters that would better describe the business."
   ]
  },
  {
   "cell_type": "markdown",
   "metadata": {},
   "source": [
    "## Where's the Data?\n",
    "\n",
    "Finding any missing data from the dataframe."
   ]
  },
  {
   "cell_type": "code",
   "execution_count": 3,
   "metadata": {
    "ExecuteTime": {
     "end_time": "2021-06-20T05:24:11.002537Z",
     "start_time": "2021-06-20T05:24:10.768163Z"
    }
   },
   "outputs": [
    {
     "data": {
      "text/plain": [
       "InvoiceNo           0\n",
       "StockCode           0\n",
       "Description      1454\n",
       "Quantity            0\n",
       "InvoiceDate         0\n",
       "UnitPrice           0\n",
       "CustomerID     135080\n",
       "Country             0\n",
       "dtype: int64"
      ]
     },
     "execution_count": 3,
     "metadata": {},
     "output_type": "execute_result"
    }
   ],
   "source": [
    "df.isnull().sum()"
   ]
  },
  {
   "cell_type": "code",
   "execution_count": 4,
   "metadata": {
    "ExecuteTime": {
     "end_time": "2021-06-20T05:24:11.627864Z",
     "start_time": "2021-06-20T05:24:11.005528Z"
    }
   },
   "outputs": [
    {
     "name": "stdout",
     "output_type": "stream",
     "text": [
      "There's over 0.27% of the total data is missing from the Description column\n"
     ]
    }
   ],
   "source": [
    "print(\"There's over {:.2f}% of the total data is missing from the Description column\".format(df[df[\"Description\"].isnull() == True].shape[0]/df.shape[0]*100))"
   ]
  },
  {
   "cell_type": "code",
   "execution_count": 5,
   "metadata": {
    "ExecuteTime": {
     "end_time": "2021-06-20T05:24:11.659779Z",
     "start_time": "2021-06-20T05:24:11.631853Z"
    }
   },
   "outputs": [
    {
     "name": "stdout",
     "output_type": "stream",
     "text": [
      "There's over 24.93% of the total data is missing from the CustomerID column\n"
     ]
    }
   ],
   "source": [
    "print(\"There's over {:.2f}% of the total data is missing from the CustomerID column\".format(df[df[\"CustomerID\"].isnull() == True].shape[0]/df.shape[0]*100))"
   ]
  },
  {
   "cell_type": "markdown",
   "metadata": {},
   "source": [
    "The \"Description\" column, barely has any missing values which can be easily deleted off of the dataframe. However, the \"CustomerID\" feature has a large missing data, and needs to be examined closely to decide on how to fill in the missing cells."
   ]
  },
  {
   "cell_type": "code",
   "execution_count": 6,
   "metadata": {
    "ExecuteTime": {
     "end_time": "2021-06-20T05:24:11.815365Z",
     "start_time": "2021-06-20T05:24:11.661773Z"
    }
   },
   "outputs": [],
   "source": [
    "#remove missing data from the Description column\n",
    "df = df[df[\"Description\"].isnull() == False]"
   ]
  },
  {
   "cell_type": "markdown",
   "metadata": {},
   "source": [
    "Missing data under the \"Description\" columns has been removed."
   ]
  },
  {
   "cell_type": "code",
   "execution_count": 7,
   "metadata": {
    "ExecuteTime": {
     "end_time": "2021-06-20T05:24:11.921079Z",
     "start_time": "2021-06-20T05:24:11.817357Z"
    }
   },
   "outputs": [
    {
     "data": {
      "text/html": [
       "<div>\n",
       "<style scoped>\n",
       "    .dataframe tbody tr th:only-of-type {\n",
       "        vertical-align: middle;\n",
       "    }\n",
       "\n",
       "    .dataframe tbody tr th {\n",
       "        vertical-align: top;\n",
       "    }\n",
       "\n",
       "    .dataframe thead th {\n",
       "        text-align: right;\n",
       "    }\n",
       "</style>\n",
       "<table border=\"1\" class=\"dataframe\">\n",
       "  <thead>\n",
       "    <tr style=\"text-align: right;\">\n",
       "      <th></th>\n",
       "      <th>InvoiceNo</th>\n",
       "      <th>StockCode</th>\n",
       "      <th>Description</th>\n",
       "      <th>Quantity</th>\n",
       "      <th>InvoiceDate</th>\n",
       "      <th>UnitPrice</th>\n",
       "      <th>CustomerID</th>\n",
       "      <th>Country</th>\n",
       "    </tr>\n",
       "  </thead>\n",
       "  <tbody>\n",
       "    <tr>\n",
       "      <th>435250</th>\n",
       "      <td>574074</td>\n",
       "      <td>22944</td>\n",
       "      <td>CHRISTMAS METAL POSTCARD WITH BELLS</td>\n",
       "      <td>24</td>\n",
       "      <td>11/2/2011 15:33</td>\n",
       "      <td>0.97</td>\n",
       "      <td>NaN</td>\n",
       "      <td>United Kingdom</td>\n",
       "    </tr>\n",
       "    <tr>\n",
       "      <th>490997</th>\n",
       "      <td>578065</td>\n",
       "      <td>85170B</td>\n",
       "      <td>SET/6 BLACK BIRD T-LIGHT CANDLES</td>\n",
       "      <td>1</td>\n",
       "      <td>11/22/2011 15:41</td>\n",
       "      <td>4.13</td>\n",
       "      <td>NaN</td>\n",
       "      <td>United Kingdom</td>\n",
       "    </tr>\n",
       "    <tr>\n",
       "      <th>312092</th>\n",
       "      <td>C564340</td>\n",
       "      <td>AMAZONFEE</td>\n",
       "      <td>AMAZON FEE</td>\n",
       "      <td>-1</td>\n",
       "      <td>8/24/2011 14:50</td>\n",
       "      <td>4527.65</td>\n",
       "      <td>NaN</td>\n",
       "      <td>United Kingdom</td>\n",
       "    </tr>\n",
       "    <tr>\n",
       "      <th>63918</th>\n",
       "      <td>541592</td>\n",
       "      <td>22074</td>\n",
       "      <td>6 RIBBONS SHIMMERING PINKS</td>\n",
       "      <td>15</td>\n",
       "      <td>1/19/2011 15:08</td>\n",
       "      <td>0.83</td>\n",
       "      <td>NaN</td>\n",
       "      <td>United Kingdom</td>\n",
       "    </tr>\n",
       "    <tr>\n",
       "      <th>36146</th>\n",
       "      <td>539437</td>\n",
       "      <td>85203</td>\n",
       "      <td>HANGING WOOD AND FELT BUTTERFLY</td>\n",
       "      <td>2</td>\n",
       "      <td>12/17/2010 14:54</td>\n",
       "      <td>0.84</td>\n",
       "      <td>NaN</td>\n",
       "      <td>United Kingdom</td>\n",
       "    </tr>\n",
       "    <tr>\n",
       "      <th>351933</th>\n",
       "      <td>567670</td>\n",
       "      <td>21931</td>\n",
       "      <td>JUMBO STORAGE BAG SUKI</td>\n",
       "      <td>2</td>\n",
       "      <td>9/21/2011 15:32</td>\n",
       "      <td>4.13</td>\n",
       "      <td>NaN</td>\n",
       "      <td>United Kingdom</td>\n",
       "    </tr>\n",
       "    <tr>\n",
       "      <th>278320</th>\n",
       "      <td>561209</td>\n",
       "      <td>23321</td>\n",
       "      <td>SMALL WHITE HEART OF WICKER</td>\n",
       "      <td>4</td>\n",
       "      <td>7/25/2011 16:57</td>\n",
       "      <td>3.29</td>\n",
       "      <td>NaN</td>\n",
       "      <td>United Kingdom</td>\n",
       "    </tr>\n",
       "    <tr>\n",
       "      <th>108889</th>\n",
       "      <td>545568</td>\n",
       "      <td>85204</td>\n",
       "      <td>HANGING WOOD AND FELT FLOWER</td>\n",
       "      <td>1</td>\n",
       "      <td>3/3/2011 16:22</td>\n",
       "      <td>0.42</td>\n",
       "      <td>NaN</td>\n",
       "      <td>United Kingdom</td>\n",
       "    </tr>\n",
       "    <tr>\n",
       "      <th>416478</th>\n",
       "      <td>572553</td>\n",
       "      <td>20777</td>\n",
       "      <td>CHRYSANTHEMUM NOTEBOOK</td>\n",
       "      <td>1</td>\n",
       "      <td>10/24/2011 17:09</td>\n",
       "      <td>1.63</td>\n",
       "      <td>NaN</td>\n",
       "      <td>United Kingdom</td>\n",
       "    </tr>\n",
       "    <tr>\n",
       "      <th>16057</th>\n",
       "      <td>537643</td>\n",
       "      <td>22501</td>\n",
       "      <td>PICNIC BASKET WICKER LARGE</td>\n",
       "      <td>1</td>\n",
       "      <td>12/7/2010 15:34</td>\n",
       "      <td>21.23</td>\n",
       "      <td>NaN</td>\n",
       "      <td>United Kingdom</td>\n",
       "    </tr>\n",
       "  </tbody>\n",
       "</table>\n",
       "</div>"
      ],
      "text/plain": [
       "       InvoiceNo  StockCode                          Description  Quantity  \\\n",
       "435250    574074      22944  CHRISTMAS METAL POSTCARD WITH BELLS        24   \n",
       "490997    578065     85170B     SET/6 BLACK BIRD T-LIGHT CANDLES         1   \n",
       "312092   C564340  AMAZONFEE                           AMAZON FEE        -1   \n",
       "63918     541592      22074          6 RIBBONS SHIMMERING PINKS         15   \n",
       "36146     539437      85203     HANGING WOOD AND FELT BUTTERFLY          2   \n",
       "351933    567670      21931               JUMBO STORAGE BAG SUKI         2   \n",
       "278320    561209      23321          SMALL WHITE HEART OF WICKER         4   \n",
       "108889    545568      85204         HANGING WOOD AND FELT FLOWER         1   \n",
       "416478    572553      20777               CHRYSANTHEMUM NOTEBOOK         1   \n",
       "16057     537643      22501           PICNIC BASKET WICKER LARGE         1   \n",
       "\n",
       "             InvoiceDate  UnitPrice  CustomerID         Country  \n",
       "435250   11/2/2011 15:33       0.97         NaN  United Kingdom  \n",
       "490997  11/22/2011 15:41       4.13         NaN  United Kingdom  \n",
       "312092   8/24/2011 14:50    4527.65         NaN  United Kingdom  \n",
       "63918    1/19/2011 15:08       0.83         NaN  United Kingdom  \n",
       "36146   12/17/2010 14:54       0.84         NaN  United Kingdom  \n",
       "351933   9/21/2011 15:32       4.13         NaN  United Kingdom  \n",
       "278320   7/25/2011 16:57       3.29         NaN  United Kingdom  \n",
       "108889    3/3/2011 16:22       0.42         NaN  United Kingdom  \n",
       "416478  10/24/2011 17:09       1.63         NaN  United Kingdom  \n",
       "16057    12/7/2010 15:34      21.23         NaN  United Kingdom  "
      ]
     },
     "execution_count": 7,
     "metadata": {},
     "output_type": "execute_result"
    }
   ],
   "source": [
    "df[df[\"CustomerID\"].isnull() == True].sample(10)"
   ]
  },
  {
   "cell_type": "markdown",
   "metadata": {},
   "source": [
    "Missing CustomerID's are not coming from cancelled transactions. One possible  reason for this would probably be some error coming from their backend. What's going to happen is that the missing CustomerID's will get their own, coming from the invoice number. This does assume that all CustomerID's are going to have only a single transaction."
   ]
  },
  {
   "cell_type": "code",
   "execution_count": 8,
   "metadata": {
    "ExecuteTime": {
     "end_time": "2021-06-20T05:24:12.072674Z",
     "start_time": "2021-06-20T05:24:11.922076Z"
    }
   },
   "outputs": [
    {
     "data": {
      "text/plain": [
       "(0, 8)"
      ]
     },
     "execution_count": 8,
     "metadata": {},
     "output_type": "execute_result"
    }
   ],
   "source": [
    "#check if there are any InvoiceNo existing in the CustomerID column\n",
    "invoice = df[\"InvoiceNo\"].unique().tolist()\n",
    "\n",
    "df[df[\"CustomerID\"].isin(invoice)].shape"
   ]
  },
  {
   "cell_type": "markdown",
   "metadata": {},
   "source": [
    "There's no overlap between the InvoiceNo and CustomerID. The invoice number will fill in the missing CustomerID data."
   ]
  },
  {
   "cell_type": "code",
   "execution_count": 9,
   "metadata": {
    "ExecuteTime": {
     "end_time": "2021-06-20T05:24:12.164427Z",
     "start_time": "2021-06-20T05:24:12.074668Z"
    }
   },
   "outputs": [],
   "source": [
    "#fill in missing customerID data with the InvoiceNo\n",
    "df[\"CustomerID\"] = df[\"CustomerID\"].fillna(df[\"InvoiceNo\"])"
   ]
  },
  {
   "cell_type": "code",
   "execution_count": 10,
   "metadata": {
    "ExecuteTime": {
     "end_time": "2021-06-20T05:24:12.362898Z",
     "start_time": "2021-06-20T05:24:12.166423Z"
    }
   },
   "outputs": [
    {
     "data": {
      "text/plain": [
       "InvoiceNo      0\n",
       "StockCode      0\n",
       "Description    0\n",
       "Quantity       0\n",
       "InvoiceDate    0\n",
       "UnitPrice      0\n",
       "CustomerID     0\n",
       "Country        0\n",
       "dtype: int64"
      ]
     },
     "execution_count": 10,
     "metadata": {},
     "output_type": "execute_result"
    }
   ],
   "source": [
    "#check again for any missing data\n",
    "df.isnull().sum()"
   ]
  },
  {
   "cell_type": "markdown",
   "metadata": {},
   "source": [
    "## Feature Engineering\n",
    "\n",
    "The analysis will be based mainly off of the sales of the business, so the features will revolve around this business aspect. The following will be added into the dataframe:\n",
    "\n",
    "1. Turning the date column into a datetime dtype. Very useful when plotting time series data.\n",
    "2. Adding in Total sales which is the product between the price and quantity being purchased.\n",
    "3. Add in any repeat or first time purchasers, to understand churn rate.\n",
    "4. Transaction number for each customer. "
   ]
  },
  {
   "cell_type": "code",
   "execution_count": 11,
   "metadata": {
    "ExecuteTime": {
     "end_time": "2021-06-20T05:24:17.021441Z",
     "start_time": "2021-06-20T05:24:12.364893Z"
    }
   },
   "outputs": [],
   "source": [
    "#turn InvoiceDate into DateTime Column\n",
    "df[\"DateTime\"] = pd.to_datetime(df[\"InvoiceDate\"])\n",
    "df[\"Date\"] = df[\"DateTime\"].dt.date\n",
    "df[\"year\"] = df[\"DateTime\"].dt.year\n",
    "df[\"month\"] = df[\"DateTime\"].dt.month\n",
    "df[\"dow\"] = df[\"DateTime\"].dt.dayofweek\n",
    "df[\"month_year\"] = df[\"DateTime\"].dt.to_period(\"M\")\n",
    "\n",
    "#Total sales of each item bought\n",
    "df[\"Total Sales\"] = df[\"Quantity\"]*df[\"UnitPrice\"]\n",
    "\n",
    "#find out any repeat customers\n",
    "customer_status = df[[\"InvoiceNo\", \"CustomerID\"]].drop_duplicates().groupby(\"CustomerID\").agg({\"InvoiceNo\":\"nunique\"}).reset_index()\n",
    "customer_status.columns = [\"CustomerID\", \"Transactions\"]\n",
    "\n",
    "customer_status[\"Purchaser Status\"] = np.where(customer_status[\"Transactions\"] == 1, \"First Time Purchaser\", \"Repeat Purchaser\")\n",
    "\n",
    "df = df.merge(customer_status[[\"CustomerID\", \"Purchaser Status\"]], on = \"CustomerID\")\n",
    "\n",
    "#added transaction number\n",
    "transaction_n = df[[\"InvoiceDate\", \"CustomerID\", \"InvoiceNo\"]].drop_duplicates()\n",
    "transaction_n[\"Transaction\"] = transaction_n.groupby([\"CustomerID\"]).cumcount()+1\n",
    "\n",
    "df = df.merge(transaction_n, on = [\"CustomerID\", \"InvoiceNo\", \"InvoiceDate\"])"
   ]
  },
  {
   "cell_type": "markdown",
   "metadata": {},
   "source": [
    "# Is My Business Doing Well?\n",
    "\n",
    "Sales will be the main focus on the analysis. This section will be focused on understanding the different sales aspects of the business, and how other things can be changed to improve it."
   ]
  },
  {
   "cell_type": "markdown",
   "metadata": {},
   "source": [
    "## General"
   ]
  },
  {
   "cell_type": "code",
   "execution_count": 12,
   "metadata": {
    "ExecuteTime": {
     "end_time": "2021-06-20T05:24:17.691649Z",
     "start_time": "2021-06-20T05:24:17.023436Z"
    }
   },
   "outputs": [],
   "source": [
    "cancelled_trans = df[\"InvoiceNo\"].str.match(\"^C.*\") == True\n",
    "returned_items = df[\"Quantity\"] > 0\n",
    "not_december2011 = df[\"DateTime\"] < '2011-12-01'\n",
    "\n",
    "clean_df = df[~(cancelled_trans) & (returned_items) & (not_december2011)] \n",
    "\n",
    "sales = clean_df.groupby(\"month_year\").agg({\"Total Sales\":\"sum\"}).reset_index()\n",
    "transactions = clean_df.groupby(\"month_year\").agg({\"InvoiceNo\":\"nunique\"}).reset_index()\n",
    "\n",
    "#create a custom paramater for sales dataframe\n",
    "sales[\"MoM Sales Growth\"] = (sales[\"Total Sales\"] - sales[\"Total Sales\"].shift(1))/sales[\"Total Sales\"].shift(1)*100"
   ]
  },
  {
   "cell_type": "markdown",
   "metadata": {},
   "source": [
    "Note: A different dataset has been used called \"clean_df\" which removes all the transactions that have been cancelled, returned, as well as excluding December 2011 because it only had 9 days worth of recorded transactions.\n",
    "\n",
    "Definitions:\n",
    "1. Cancelled Transactions = All the Invoices that had cancelled their transaction, which can be shown by a C at the start of the Invoice ID.\n",
    "2. Returned Items = Items that have a negative value to them.\n",
    "3. Not December 2011 = All transactions that have been done before December 2011."
   ]
  },
  {
   "cell_type": "code",
   "execution_count": 13,
   "metadata": {
    "ExecuteTime": {
     "end_time": "2021-06-20T05:24:18.037724Z",
     "start_time": "2021-06-20T05:24:17.693643Z"
    }
   },
   "outputs": [
    {
     "name": "stdout",
     "output_type": "stream",
     "text": [
      "Total Succesful Sales: £10,005,768\n",
      "Total Transactions: 24,446, but only 19,307 transactions have pulled through\n",
      "Total Customers: 5,847, where 2,794 are first time customers and 3,053 are repeat purchasers.\n",
      "\n",
      "There's over 3,690 cancelled transactions with a total sales of £691,687.82. Which consists to about 6% of the total sales.\n",
      "The remaining 1,450 transactions are returned items that have been missing or damaged. \n"
     ]
    }
   ],
   "source": [
    "first_time = clean_df[clean_df[\"Purchaser Status\"] == \"First Time Purchaser\"][\"CustomerID\"].nunique()\n",
    "repeat = clean_df[clean_df[\"Purchaser Status\"] == \"Repeat Purchaser\"][\"CustomerID\"].nunique()\n",
    "\n",
    "print(\"Total Succesful Sales: £{:,.0f}\".format(sales[\"Total Sales\"].sum()))\n",
    "print(\"Total Transactions: {:,.0f}, but only {:,.0f} transactions have pulled through\".format(df[\"InvoiceNo\"].nunique(), clean_df[\"InvoiceNo\"].nunique()))\n",
    "print(\"Total Customers: {:,.0f}, where {:,} are first time customers and {:,} are repeat purchasers.\".format(clean_df[\"CustomerID\"].nunique(), first_time, repeat))\n",
    "print(\"\\nThere's over {:,} cancelled transactions with a total sales of £{:,.2f}. Which consists to about 6% of the total sales.\".format(df[cancelled_trans & not_december2011][\"InvoiceNo\"].nunique(), \n",
    "                                                                                abs(df[cancelled_trans & not_december2011][\"Total Sales\"].sum())))\n",
    "print(\"The remaining 1,450 transactions are returned items that have been missing or damaged. \")\n",
    "\n",
    "#print(\"Average Order Size is £{:,.2f}\".format(clean_df.groupby(\"InvoiceNo\").agg({\"Total Sales\":\"sum\"})[\"Total Sales\"].median()))"
   ]
  },
  {
   "cell_type": "markdown",
   "metadata": {},
   "source": [
    "Note: The total sales cannot be calculated because the price wasn't being added in the dataframe."
   ]
  },
  {
   "cell_type": "markdown",
   "metadata": {},
   "source": [
    "## Sales"
   ]
  },
  {
   "cell_type": "code",
   "execution_count": 14,
   "metadata": {
    "ExecuteTime": {
     "end_time": "2021-06-20T05:24:18.419702Z",
     "start_time": "2021-06-20T05:24:18.039719Z"
    }
   },
   "outputs": [
    {
     "data": {
      "image/png": "[encoded data removed]",
      "text/plain": [
       "<Figure size 648x360 with 2 Axes>"
      ]
     },
     "metadata": {
      "needs_background": "light"
     },
     "output_type": "display_data"
    }
   ],
   "source": [
    "#create plot\n",
    "fig, ax1 = plt.subplots(figsize = (9, 5))\n",
    "\n",
    "#sales\n",
    "sales.plot(ax=ax1, legend = False)\n",
    "\n",
    "ax1.set_xticks(np.arange(len(sales[\"month_year\"].unique())))\n",
    "ax1.set_xticklabels(sales[\"month_year\"].unique(), rotation = 90)\n",
    "\n",
    "fmt = '£{x:,.0f}'\n",
    "tick = mtick.StrMethodFormatter(fmt)\n",
    "ax1.yaxis.set_major_formatter(tick) \n",
    "ax1.set_ylabel(\"Sales\")\n",
    "\n",
    "\n",
    "#transactions\n",
    "ax2 = ax1.twinx()\n",
    "transactions.plot(ax=ax2, color = \"blue\", legend = False)\n",
    "\n",
    "ax2.set_ylabel(\"Transactions\")\n",
    "\n",
    "ax1.set_yticks(np.linspace(ax1.get_ybound()[0], ax1.get_ybound()[1], 5))\n",
    "ax2.set_yticks(np.linspace(ax2.get_ybound()[0], ax2.get_ybound()[1], 5))\n",
    "\n",
    "fig.legend([\"Sales\", \"Transactions\"], bbox_to_anchor = (1.2,1))\n",
    "plt.tight_layout()\n",
    "plt.suptitle(\"Month of Year\", fontsize = 15, y = 1.05);"
   ]
  },
  {
   "cell_type": "code",
   "execution_count": 15,
   "metadata": {
    "ExecuteTime": {
     "end_time": "2021-06-20T05:24:18.617177Z",
     "start_time": "2021-06-20T05:24:18.422694Z"
    }
   },
   "outputs": [
    {
     "data": {
      "image/png": "[encoded data removed]",
      "text/plain": [
       "<Figure size 432x288 with 1 Axes>"
      ]
     },
     "metadata": {
      "needs_background": "light"
     },
     "output_type": "display_data"
    }
   ],
   "source": [
    "sales.plot(x = \"month_year\", y = \"MoM Sales Growth\")\n",
    "\n",
    "plt.ylim([-40,80])\n",
    "plt.suptitle(\"MoM Sales Growth\", fontsize = 15)\n",
    "plt.ylabel(\"Percentage\")\n",
    "plt.xlabel(\"Month of Year\");"
   ]
  },
  {
   "cell_type": "markdown",
   "metadata": {},
   "source": [
    "Sales for the last 3 months have shown to be skyrocketing, which is well supported with the Mom growth as well. From September onwards, there's an average of 27% MoM growth. This implies that the company has had a succesful marketing campaign as well as a tight product-market fit. It does not show any signs of plateauing, and can still increase for the next few months."
   ]
  },
  {
   "cell_type": "markdown",
   "metadata": {},
   "source": [
    "## New Customers vs Returning Customers"
   ]
  },
  {
   "cell_type": "code",
   "execution_count": 16,
   "metadata": {
    "ExecuteTime": {
     "end_time": "2021-06-20T05:24:18.898422Z",
     "start_time": "2021-06-20T05:24:18.619170Z"
    }
   },
   "outputs": [
    {
     "data": {
      "image/png": "[encoded data removed]",
      "text/plain": [
       "<Figure size 432x288 with 1 Axes>"
      ]
     },
     "metadata": {},
     "output_type": "display_data"
    }
   ],
   "source": [
    "purchasers = clean_df[[\"CustomerID\", \"Purchaser Status\"]].drop_duplicates()\n",
    "\n",
    "purchasers[\"Purchaser Status\"].value_counts().plot(kind = \"pie\", autopct = \"%.2f\", labels = None)\n",
    "plt.legend([\"Repeat Purchasers\", \"First Time Purchasers\"], bbox_to_anchor = (1,1))\n",
    "plt.suptitle(\"Purchaser Types\", fontsize = 15)\n",
    "plt.ylabel(\"\");"
   ]
  },
  {
   "cell_type": "markdown",
   "metadata": {},
   "source": [
    "Extremely high retention rate, with over 50% of the customers have made a repeat purchase."
   ]
  },
  {
   "cell_type": "code",
   "execution_count": 17,
   "metadata": {
    "ExecuteTime": {
     "end_time": "2021-06-20T05:24:19.119831Z",
     "start_time": "2021-06-20T05:24:18.900418Z"
    }
   },
   "outputs": [],
   "source": [
    "#check AOV of repeat vs first time purchasers\n",
    "purchasers = clean_df.groupby([\"CustomerID\", \"Purchaser Status\"]).agg({\"InvoiceNo\":\"nunique\",\n",
    "                                                                                                              \"Total Sales\":\"sum\"}).reset_index()\n",
    "purchasers.columns = [\"CustomerID\",\"Purchaser Status\", \"Transactions\", \"Total Sales\"]\n",
    "purchasers[\"User\"] = 1"
   ]
  },
  {
   "cell_type": "code",
   "execution_count": 18,
   "metadata": {
    "ExecuteTime": {
     "end_time": "2021-06-20T05:24:19.139777Z",
     "start_time": "2021-06-20T05:24:19.124818Z"
    }
   },
   "outputs": [
    {
     "data": {
      "text/html": [
       "<div>\n",
       "<style scoped>\n",
       "    .dataframe tbody tr th:only-of-type {\n",
       "        vertical-align: middle;\n",
       "    }\n",
       "\n",
       "    .dataframe tbody tr th {\n",
       "        vertical-align: top;\n",
       "    }\n",
       "\n",
       "    .dataframe thead th {\n",
       "        text-align: right;\n",
       "    }\n",
       "</style>\n",
       "<table border=\"1\" class=\"dataframe\">\n",
       "  <thead>\n",
       "    <tr style=\"text-align: right;\">\n",
       "      <th></th>\n",
       "      <th>Transactions</th>\n",
       "    </tr>\n",
       "    <tr>\n",
       "      <th>Purchaser Status</th>\n",
       "      <th></th>\n",
       "    </tr>\n",
       "  </thead>\n",
       "  <tbody>\n",
       "    <tr>\n",
       "      <th>First Time Purchaser</th>\n",
       "      <td>1</td>\n",
       "    </tr>\n",
       "    <tr>\n",
       "      <th>Repeat Purchaser</th>\n",
       "      <td>3</td>\n",
       "    </tr>\n",
       "  </tbody>\n",
       "</table>\n",
       "</div>"
      ],
      "text/plain": [
       "                      Transactions\n",
       "Purchaser Status                  \n",
       "First Time Purchaser             1\n",
       "Repeat Purchaser                 3"
      ]
     },
     "execution_count": 18,
     "metadata": {},
     "output_type": "execute_result"
    }
   ],
   "source": [
    "purchasers.groupby(\"Purchaser Status\").agg({\"Transactions\":\"median\"})"
   ]
  },
  {
   "cell_type": "markdown",
   "metadata": {},
   "source": [
    "It is expected that a repeat purchaser would do atleast 3 purchases before churning."
   ]
  },
  {
   "cell_type": "code",
   "execution_count": 19,
   "metadata": {
    "ExecuteTime": {
     "end_time": "2021-06-20T05:24:19.234526Z",
     "start_time": "2021-06-20T05:24:19.141772Z"
    }
   },
   "outputs": [],
   "source": [
    "def ARPU(group):\n",
    "    d = group['Total Sales']\n",
    "    w = group['User']\n",
    "    return d.sum() / w.sum()\n",
    "\n",
    "def AOV(group):\n",
    "    d = group['Total Sales']\n",
    "    w = group['Transactions']\n",
    "    return d.sum() / w.sum()"
   ]
  },
  {
   "cell_type": "code",
   "execution_count": 20,
   "metadata": {
    "ExecuteTime": {
     "end_time": "2021-06-20T05:24:19.526743Z",
     "start_time": "2021-06-20T05:24:19.236518Z"
    }
   },
   "outputs": [
    {
     "data": {
      "image/png": "[encoded data removed]",
      "text/plain": [
       "<Figure size 432x288 with 1 Axes>"
      ]
     },
     "metadata": {
      "needs_background": "light"
     },
     "output_type": "display_data"
    }
   ],
   "source": [
    "arpu = purchasers.groupby(\"Purchaser Status\").apply(ARPU)\n",
    "aov = purchasers.groupby(\"Purchaser Status\").apply(AOV)\n",
    "\n",
    "labels = arpu.index\n",
    "arpu = arpu[:]\n",
    "aov = aov[:]\n",
    "\n",
    "x = np.arange(len(labels))  # the label locations\n",
    "width = 0.35  # the width of the bars\n",
    "\n",
    "fig, ax = plt.subplots()\n",
    "rects1 = ax.barh(x - width/2, arpu, width, label='Average Revenue per Customer')\n",
    "rects2 = ax.barh(x + width/2, aov, width, label='Average Order Value')\n",
    "\n",
    "# Add some text for labels, title and custom x-axis tick labels, etc.\n",
    "ax.set_xlabel('£')\n",
    "ax.set_title(\"ARPU and AOV by Purchaser Status\")\n",
    "ax.set_yticks(x)\n",
    "ax.set_yticklabels(labels)\n",
    "ax.legend(bbox_to_anchor = (1.6, 1));"
   ]
  },
  {
   "cell_type": "markdown",
   "metadata": {},
   "source": [
    "AOV for a repeat customer is lower than a first time purchaser which shows that succeeding transactions have slightly lesser sales. To improve AOV of a repeat purchaser, try doing cross-selling techniques to entice the customer to buy more items per transactions."
   ]
  },
  {
   "cell_type": "markdown",
   "metadata": {},
   "source": [
    "## Failed Transactions"
   ]
  },
  {
   "cell_type": "code",
   "execution_count": 21,
   "metadata": {
    "ExecuteTime": {
     "end_time": "2021-06-20T05:24:19.637448Z",
     "start_time": "2021-06-20T05:24:19.529734Z"
    }
   },
   "outputs": [],
   "source": [
    "total_trans = df.groupby(\"month_year\")[\"InvoiceNo\"].nunique().reset_index()\n",
    "total_trans.columns = [\"month_year\", \"total transactions\"]\n",
    "\n",
    "failed_trans = df[~(returned_items) & ~(cancelled_trans) & (not_december2011)].groupby(\"month_year\")[\"InvoiceNo\"].nunique().reset_index()\n",
    "failed_trans.columns = [\"month_year\", \"failed transactions\"]\n",
    "\n",
    "trans = total_trans.merge(failed_trans, on = [\"month_year\"])\n",
    "trans[\"% Failed\"] = trans[\"failed transactions\"]/trans[\"total transactions\"]*100"
   ]
  },
  {
   "cell_type": "code",
   "execution_count": 22,
   "metadata": {
    "ExecuteTime": {
     "end_time": "2021-06-20T05:24:20.327604Z",
     "start_time": "2021-06-20T05:24:19.639441Z"
    }
   },
   "outputs": [
    {
     "data": {
      "image/png": "[encoded data removed]",
      "text/plain": [
       "<Figure size 720x360 with 2 Axes>"
      ]
     },
     "metadata": {
      "needs_background": "light"
     },
     "output_type": "display_data"
    }
   ],
   "source": [
    "failed_trans = df[~(returned_items) & ~(cancelled_trans) & (not_december2011)].groupby(\"month_year\")[\"InvoiceNo\"].nunique().reset_index()\n",
    "\n",
    "#create graph\n",
    "fig, ax1 = plt.subplots(figsize = (10,5), sharex = True)\n",
    "\n",
    "trans.plot(x = \"month_year\", y = \"failed transactions\", ax=ax1, legend = False)\n",
    "\n",
    "ax1.set_xticks(np.arange(len(trans[\"month_year\"].unique())))\n",
    "ax1.set_xticklabels(trans[\"month_year\"].unique(), rotation = 90)\n",
    "ax1.set_ylabel(\"Transactions\")\n",
    "\n",
    "ax2 = ax1.twinx()\n",
    "trans.plot(x = \"month_year\", y = \"% Failed\", ax=ax2, legend = False, color = \"blue\")\n",
    "\n",
    "ax2.set_ylabel(\"Percentage Failed Transactions\")\n",
    "\n",
    "\n",
    "ax1.set_ylim([0,125])\n",
    "ax2.set_ylim([0,25])\n",
    "\n",
    "ax1.set_yticks(np.linspace(ax1.get_ybound()[0], ax1.get_ybound()[1], 10))\n",
    "ax2.set_yticks(np.linspace(ax2.get_ybound()[0], ax2.get_ybound()[1], 10))\n",
    "\n",
    "fig.legend([\"Failed Transaction\", \"% Failed\"])\n",
    "plt.suptitle(\"Failed Transactions\", fontsize = 15);"
   ]
  },
  {
   "cell_type": "markdown",
   "metadata": {},
   "source": [
    "The % of failed transactions have shown to be increasing in the last 2 months of operation, which is over 3%. There could be problems of scaling in the future that the more transactions the business is getting, cancelled and failed deals would increase as well. It would be best to take care of this, and minimize failed transactions to less than 1% as they can have a negative impact of the customer journey."
   ]
  },
  {
   "cell_type": "code",
   "execution_count": 23,
   "metadata": {
    "ExecuteTime": {
     "end_time": "2021-06-20T05:24:20.560977Z",
     "start_time": "2021-06-20T05:24:20.329596Z"
    }
   },
   "outputs": [
    {
     "name": "stdout",
     "output_type": "stream",
     "text": [
      "There are a total of 3,836 failed transactions, and over 3,836 of those were their last time they bought in the retail store.\n"
     ]
    }
   ],
   "source": [
    "#effect of a cancelled transaction\n",
    "last_trans = df.groupby([\"CustomerID\",\"InvoiceNo\"])[\"Transaction\"].max().reset_index()\n",
    "\n",
    "print(\"There are a total of {:,.0f} failed transactions, and over {:,.0f} of those were their last time they bought in the retail store.\"\\\n",
    "     .format(df[cancelled_trans][\"InvoiceNo\"].nunique(),\n",
    "            df[cancelled_trans & df[\"InvoiceNo\"].isin(last_trans[\"InvoiceNo\"].unique().tolist())][\"InvoiceNo\"].nunique()))"
   ]
  },
  {
   "cell_type": "markdown",
   "metadata": {},
   "source": [
    "100% of failed transactions are the customer's last time they purchased in the store. Improving customer journey and the company's last mile delivery system can help decrease any missing and damaged items, as well as boost's the customer's confidence with the business."
   ]
  },
  {
   "cell_type": "markdown",
   "metadata": {},
   "source": [
    "## Purchaser Behavior\n",
    "\n",
    "Now that there's a good understanding of the business, let's look at the most recent purchaser behavior. Recent here is defined as the last 3 months, which would be from September onwards. This can be used to identify which existing customers have high traction with the business and the lapsing users as well.\n",
    "\n",
    "Note: I only used the last 3 months because using old data, would imply that that customer has the same level of engagement as they are in the present."
   ]
  },
  {
   "cell_type": "code",
   "execution_count": 24,
   "metadata": {
    "ExecuteTime": {
     "end_time": "2021-06-20T05:24:20.567959Z",
     "start_time": "2021-06-20T05:24:20.562973Z"
    }
   },
   "outputs": [],
   "source": [
    "def recency(date):\n",
    "    return (pd.to_datetime(\"2011-12-10\") - date.max()).days"
   ]
  },
  {
   "cell_type": "code",
   "execution_count": 25,
   "metadata": {
    "ExecuteTime": {
     "end_time": "2021-06-20T05:24:21.670012Z",
     "start_time": "2021-06-20T05:24:20.570951Z"
    }
   },
   "outputs": [],
   "source": [
    "rfm = df[~(cancelled_trans) & (returned_items) & (df[\"DateTime\"] >= \"2011-09-01\")].groupby(\"CustomerID\").agg({\"InvoiceNo\":\"nunique\", \"Total Sales\":\"sum\", \"DateTime\":recency}).reset_index()\n",
    "rfm.columns = [\"CustomerID\", \"Frequency\", \"Monetary\", \"Recency\"]"
   ]
  },
  {
   "cell_type": "code",
   "execution_count": 26,
   "metadata": {
    "ExecuteTime": {
     "end_time": "2021-06-20T05:24:21.680982Z",
     "start_time": "2021-06-20T05:24:21.672006Z"
    }
   },
   "outputs": [],
   "source": [
    "def score(parameter):\n",
    "    percentile_20 = rfm[parameter].quantile(0.2)\n",
    "    percentile_40 = rfm[parameter].quantile(0.4)\n",
    "    percentile_60 = rfm[parameter].quantile(0.6)\n",
    "    percentile_80 = rfm[parameter].quantile(0.8)\n",
    "    \n",
    "    condlist = [rfm[parameter] < percentile_20,             \n",
    "                (rfm[parameter] >= percentile_20) & (rfm[parameter] < percentile_40),\n",
    "               (rfm[parameter] >= percentile_40) & (rfm[parameter] < percentile_60),\n",
    "               (rfm[parameter] >= percentile_60) & (rfm[parameter] < percentile_80),\n",
    "               rfm[parameter] >= percentile_80]\n",
    "    if parameter == \"Monetary\":\n",
    "        choicelist = [1,2,3,4,5]\n",
    "    else: choicelist = [5,4,3,2,1]\n",
    "\n",
    "    return np.select(condlist, choicelist)"
   ]
  },
  {
   "cell_type": "code",
   "execution_count": 27,
   "metadata": {
    "ExecuteTime": {
     "end_time": "2021-06-20T05:24:21.846540Z",
     "start_time": "2021-06-20T05:24:21.682980Z"
    }
   },
   "outputs": [],
   "source": [
    "condlist = [rfm[\"Frequency\"] == 1,             \n",
    "            (rfm[\"Frequency\"] >= 2) & (rfm[\"Frequency\"] < 6),\n",
    "            (rfm[\"Frequency\"] >= 6) & (rfm[\"Frequency\"] < 12),\n",
    "            (rfm[\"Frequency\"] >= 12) & (rfm[\"Frequency\"] < 20),\n",
    "            rfm[\"Frequency\"] >= 20]\n",
    "choicelist = [1,2,3,4,5]\n",
    "\n",
    "rfm[\"f_score\"] = np.select(condlist, choicelist)\n",
    "rfm[\"m_score\"] = score(\"Monetary\")\n",
    "rfm[\"r_score\"] = score(\"Recency\")"
   ]
  },
  {
   "cell_type": "markdown",
   "metadata": {},
   "source": [
    "Note: I used a different method to group up the Frequency, mainly because most of the data is under frequency = 1, and doing quantile percentage on it would only lead to having the same results. I tried doing it, and the results at 50% and 20% percentile is the same which is at 1."
   ]
  },
  {
   "cell_type": "code",
   "execution_count": 28,
   "metadata": {
    "ExecuteTime": {
     "end_time": "2021-06-20T05:24:21.964226Z",
     "start_time": "2021-06-20T05:24:21.848535Z"
    }
   },
   "outputs": [
    {
     "name": "stdout",
     "output_type": "stream",
     "text": [
      "There are a total of 3,440 customers during this period.\n",
      "For the past 3 months, there are over 516 new customers.\n",
      "The business has also identified 31 highly engaged users\n",
      "However, there are 360 customers who have contributed a lot of sales, but recently haven't been active.\n"
     ]
    }
   ],
   "source": [
    "#new customers\n",
    "new_customers = rfm[(rfm[\"r_score\"] == 5) & (rfm[\"f_score\"] <= 2)].shape[0]\n",
    "#Whales\n",
    "whales = rfm[(rfm[\"r_score\"] >= 4) & (rfm[\"f_score\"] >= 4) & (rfm[\"m_score\"] >= 4)].shape[0]\n",
    "#lapsed customers\n",
    "lapsed_customers = rfm[(rfm[\"r_score\"] <= 2) & (rfm[\"m_score\"] >= 4)].shape[0]\n",
    "\n",
    "print(\"There are a total of {:,} customers during this period.\".format(rfm[\"CustomerID\"].nunique()))\n",
    "print(\"For the past 3 months, there are over {} new customers.\".format(new_customers))\n",
    "print(\"The business has also identified {} highly engaged users\".format(whales))\n",
    "print(\"However, there are {} customers who have contributed a lot of sales, but recently haven't been active.\".format(lapsed_customers))"
   ]
  },
  {
   "cell_type": "markdown",
   "metadata": {},
   "source": [
    "A retargeting campaign should be done on both new and lapsed customers. it is very important to try retain customers as they are cheaper to engage in the website over a new one.\n",
    "   1. For the new customers, the business can possibly do a digital marketing campaign that with the purpose of cross-selling to help entice the new customers to do it again.\n",
    "   2. Lapsing customers, re-engagement by reminding them, or create a special sale.\n",
    "   \n",
    "A special promotional campaign can be used for the whales to help them retain in the business.\n",
    "\n",
    "Lastly, for the customers who aren't part of any of the groups, a simple campaign showing any new items or general promotions can be done just to remind them of the business."
   ]
  },
  {
   "cell_type": "markdown",
   "metadata": {},
   "source": [
    "# What Should We Do Next?\n",
    "\n",
    "The business has shown a massive growth of sales, and over 50% of the purchasers doing a repeat purchase. However, there still needs to be improvements along the operations.\n",
    "   1. There's some issue on the % failed transactions and it scales along with the number of transactions. Optimization of the customer journey and last mile delivery could help minimize unsatisfied customers.\n",
    "   \n",
    "We have also identified several groups of customers which can be retargeted to sustain their level of engagement in the business.\n",
    "   1. Creating digital campaigns to the identified customers and retargeting them with customized messaging to help retention."
   ]
  },
  {
   "cell_type": "markdown",
   "metadata": {},
   "source": [
    "# References\n",
    "\n",
    "1. [UCI Machine Learning Dataset](https://archive.ics.uci.edu/ml/datasets/online+retail)\n",
    "2. [E-Commerce KPIs](https://www.shopify.com/blog/7365564-32-key-performance-indicators-kpis-for-ecommerce)"
   ]
  }
 ],
 "metadata": {
  "kernelspec": {
   "display_name": "Python 3",
   "language": "python",
   "name": "python3"
  },
  "language_info": {
   "codemirror_mode": {
    "name": "ipython",
    "version": 3
   },
   "file_extension": ".py",
   "mimetype": "text/x-python",
   "name": "python",
   "nbconvert_exporter": "python",
   "pygments_lexer": "ipython3",
   "version": "3.6.3"
  }
 },
 "nbformat": 4,
 "nbformat_minor": 2
}
